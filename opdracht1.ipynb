{
 "cells": [
  {
   "cell_type": "code",
   "execution_count": 15,
   "id": "4d04eb6b-3dd2-451e-9f81-0e723da3eabe",
   "metadata": {},
   "outputs": [],
   "source": [
    "import matplotlib.pyplot as plt\n",
    "import pandas as pd\n"
   ]
  },
  {
   "cell_type": "code",
   "execution_count": 1,
   "id": "4c757949-7474-477e-8279-b73659d1c593",
   "metadata": {},
   "outputs": [
    {
     "ename": "NameError",
     "evalue": "name 'pd' is not defined",
     "output_type": "error",
     "traceback": [
      "\u001b[1;31m---------------------------------------------------------------------------\u001b[0m",
      "\u001b[1;31mNameError\u001b[0m                                 Traceback (most recent call last)",
      "Cell \u001b[1;32mIn[1], line 3\u001b[0m\n\u001b[0;32m      1\u001b[0m dataset\u001b[38;5;241m=\u001b[39m \u001b[38;5;124m'\u001b[39m\u001b[38;5;124mPraeterBV_Case.xlsx\u001b[39m\u001b[38;5;124m'\u001b[39m\n\u001b[1;32m----> 3\u001b[0m klant_df\u001b[38;5;241m=\u001b[39mpd\u001b[38;5;241m.\u001b[39mread_excel(dataset,sheet_name\u001b[38;5;241m=\u001b[39m\u001b[38;5;124m'\u001b[39m\u001b[38;5;124mOpdracht_1_voorbeeld\u001b[39m\u001b[38;5;124m'\u001b[39m)\n\u001b[0;32m      4\u001b[0m klant_df\n",
      "\u001b[1;31mNameError\u001b[0m: name 'pd' is not defined"
     ]
    }
   ],
   "source": [
    "dataset= 'PraeterBV_Case.xlsx'\n",
    "\n",
    "klant_df=pd.read_excel(dataset,sheet_name='Opdracht_1_voorbeeld')\n",
    "klant_df\n",
    "\n"
   ]
  },
  {
   "cell_type": "code",
   "execution_count": 4,
   "id": "00ecfc6c-efcd-4fbf-a752-0442dfcb785b",
   "metadata": {},
   "outputs": [
    {
     "data": {
      "text/html": [
       "<div>\n",
       "<style scoped>\n",
       "    .dataframe tbody tr th:only-of-type {\n",
       "        vertical-align: middle;\n",
       "    }\n",
       "\n",
       "    .dataframe tbody tr th {\n",
       "        vertical-align: top;\n",
       "    }\n",
       "\n",
       "    .dataframe thead th {\n",
       "        text-align: right;\n",
       "    }\n",
       "</style>\n",
       "<table border=\"1\" class=\"dataframe\">\n",
       "  <thead>\n",
       "    <tr style=\"text-align: right;\">\n",
       "      <th></th>\n",
       "      <th>Energiekentallen utiliteitsbouw dienstensector; bouwjaarklasse</th>\n",
       "      <th>Unnamed: 1</th>\n",
       "      <th>Unnamed: 2</th>\n",
       "      <th>Unnamed: 3</th>\n",
       "      <th>Unnamed: 4</th>\n",
       "      <th>Unnamed: 5</th>\n",
       "      <th>Unnamed: 6</th>\n",
       "      <th>Unnamed: 7</th>\n",
       "      <th>Unnamed: 8</th>\n",
       "      <th>Unnamed: 9</th>\n",
       "      <th>...</th>\n",
       "      <th>Unnamed: 15</th>\n",
       "      <th>Unnamed: 16</th>\n",
       "      <th>Unnamed: 17</th>\n",
       "      <th>Unnamed: 18</th>\n",
       "      <th>Unnamed: 19</th>\n",
       "      <th>Unnamed: 20</th>\n",
       "      <th>Unnamed: 21</th>\n",
       "      <th>M2</th>\n",
       "      <th>Unnamed: 23</th>\n",
       "      <th>Unnamed: 24</th>\n",
       "    </tr>\n",
       "  </thead>\n",
       "  <tbody>\n",
       "    <tr>\n",
       "      <th>0</th>\n",
       "      <td>NaN</td>\n",
       "      <td>INPUT UIT tab Opdracht_1</td>\n",
       "      <td>categorie</td>\n",
       "      <td>NaN</td>\n",
       "      <td>NaN</td>\n",
       "      <td>NaN</td>\n",
       "      <td>NaN</td>\n",
       "      <td>NaN</td>\n",
       "      <td>NaN</td>\n",
       "      <td>NaN</td>\n",
       "      <td>...</td>\n",
       "      <td>NaN</td>\n",
       "      <td>NaN</td>\n",
       "      <td>Detailhandel met koeling</td>\n",
       "      <td>NaN</td>\n",
       "      <td>NaN</td>\n",
       "      <td>NaN</td>\n",
       "      <td>NaN</td>\n",
       "      <td>0.0</td>\n",
       "      <td>250.0</td>\n",
       "      <td>1.0</td>\n",
       "    </tr>\n",
       "    <tr>\n",
       "      <th>1</th>\n",
       "      <td>bouwjaar</td>\n",
       "      <td>6000</td>\n",
       "      <td>4</td>\n",
       "      <td>NaN</td>\n",
       "      <td>LEGENDA</td>\n",
       "      <td>Gemiddelde hoogte plafond</td>\n",
       "      <td>2.7</td>\n",
       "      <td>NaN</td>\n",
       "      <td>NaN</td>\n",
       "      <td>NaN</td>\n",
       "      <td>...</td>\n",
       "      <td>NaN</td>\n",
       "      <td>NaN</td>\n",
       "      <td>Detailhandel zonder koeling</td>\n",
       "      <td>NaN</td>\n",
       "      <td>NaN</td>\n",
       "      <td>NaN</td>\n",
       "      <td>NaN</td>\n",
       "      <td>251.0</td>\n",
       "      <td>500.0</td>\n",
       "      <td>2.0</td>\n",
       "    </tr>\n",
       "    <tr>\n",
       "      <th>2</th>\n",
       "      <td>categorie</td>\n",
       "      <td>Detailhandel zonder koeling</td>\n",
       "      <td>NaN</td>\n",
       "      <td>NaN</td>\n",
       "      <td>INPUTS</td>\n",
       "      <td>NaN</td>\n",
       "      <td>NaN</td>\n",
       "      <td>NaN</td>\n",
       "      <td>NaN</td>\n",
       "      <td>NaN</td>\n",
       "      <td>...</td>\n",
       "      <td>NaN</td>\n",
       "      <td>NaN</td>\n",
       "      <td>Groothandel zonder koeling</td>\n",
       "      <td>NaN</td>\n",
       "      <td>NaN</td>\n",
       "      <td>NaN</td>\n",
       "      <td>NaN</td>\n",
       "      <td>501.0</td>\n",
       "      <td>1000.0</td>\n",
       "      <td>3.0</td>\n",
       "    </tr>\n",
       "    <tr>\n",
       "      <th>3</th>\n",
       "      <td>Oppervlakte</td>\n",
       "      <td>5000</td>\n",
       "      <td>5</td>\n",
       "      <td>NaN</td>\n",
       "      <td>OUTPUTS</td>\n",
       "      <td>NaN</td>\n",
       "      <td>NaN</td>\n",
       "      <td>NaN</td>\n",
       "      <td>NaN</td>\n",
       "      <td>NaN</td>\n",
       "      <td>...</td>\n",
       "      <td>NaN</td>\n",
       "      <td>NaN</td>\n",
       "      <td>Autobedrijf: showroom en garage</td>\n",
       "      <td>NaN</td>\n",
       "      <td>NaN</td>\n",
       "      <td>NaN</td>\n",
       "      <td>NaN</td>\n",
       "      <td>1001.0</td>\n",
       "      <td>2500.0</td>\n",
       "      <td>4.0</td>\n",
       "    </tr>\n",
       "    <tr>\n",
       "      <th>4</th>\n",
       "      <td>Gemiddeld verbruik (aardgas) per m2</td>\n",
       "      <td>5.5</td>\n",
       "      <td>NaN</td>\n",
       "      <td>NaN</td>\n",
       "      <td>STAMGEGEVENS</td>\n",
       "      <td>NaN</td>\n",
       "      <td>NaN</td>\n",
       "      <td>NaN</td>\n",
       "      <td>NaN</td>\n",
       "      <td>NaN</td>\n",
       "      <td>...</td>\n",
       "      <td>NaN</td>\n",
       "      <td>NaN</td>\n",
       "      <td>Autobedrijf: autoschadeherstelbedrijven</td>\n",
       "      <td>NaN</td>\n",
       "      <td>NaN</td>\n",
       "      <td>NaN</td>\n",
       "      <td>NaN</td>\n",
       "      <td>2501.0</td>\n",
       "      <td>5000.0</td>\n",
       "      <td>5.0</td>\n",
       "    </tr>\n",
       "    <tr>\n",
       "      <th>...</th>\n",
       "      <td>...</td>\n",
       "      <td>...</td>\n",
       "      <td>...</td>\n",
       "      <td>...</td>\n",
       "      <td>...</td>\n",
       "      <td>...</td>\n",
       "      <td>...</td>\n",
       "      <td>...</td>\n",
       "      <td>...</td>\n",
       "      <td>...</td>\n",
       "      <td>...</td>\n",
       "      <td>...</td>\n",
       "      <td>...</td>\n",
       "      <td>...</td>\n",
       "      <td>...</td>\n",
       "      <td>...</td>\n",
       "      <td>...</td>\n",
       "      <td>...</td>\n",
       "      <td>...</td>\n",
       "      <td>...</td>\n",
       "      <td>...</td>\n",
       "    </tr>\n",
       "    <tr>\n",
       "      <th>81</th>\n",
       "      <td>Recreatie: buitensport</td>\n",
       "      <td>1994</td>\n",
       "      <td>2025</td>\n",
       "      <td>4</td>\n",
       "      <td>14.8</td>\n",
       "      <td>15.5</td>\n",
       "      <td>10.7</td>\n",
       "      <td>19.4</td>\n",
       "      <td>19.4</td>\n",
       "      <td>77.6</td>\n",
       "      <td>...</td>\n",
       "      <td>NaN</td>\n",
       "      <td>NaN</td>\n",
       "      <td>NaN</td>\n",
       "      <td>NaN</td>\n",
       "      <td>NaN</td>\n",
       "      <td>NaN</td>\n",
       "      <td>NaN</td>\n",
       "      <td>NaN</td>\n",
       "      <td>NaN</td>\n",
       "      <td>NaN</td>\n",
       "    </tr>\n",
       "    <tr>\n",
       "      <th>82</th>\n",
       "      <td>Overig: religie</td>\n",
       "      <td>0</td>\n",
       "      <td>1921</td>\n",
       "      <td>1</td>\n",
       "      <td>19.4</td>\n",
       "      <td>16</td>\n",
       "      <td>13.4</td>\n",
       "      <td>10.4</td>\n",
       "      <td>10.4</td>\n",
       "      <td>23.9</td>\n",
       "      <td>...</td>\n",
       "      <td>NaN</td>\n",
       "      <td>NaN</td>\n",
       "      <td>NaN</td>\n",
       "      <td>NaN</td>\n",
       "      <td>NaN</td>\n",
       "      <td>NaN</td>\n",
       "      <td>NaN</td>\n",
       "      <td>NaN</td>\n",
       "      <td>NaN</td>\n",
       "      <td>NaN</td>\n",
       "    </tr>\n",
       "    <tr>\n",
       "      <th>83</th>\n",
       "      <td>Overig: religie</td>\n",
       "      <td>1922</td>\n",
       "      <td>1976</td>\n",
       "      <td>2</td>\n",
       "      <td>18.7</td>\n",
       "      <td>16.5</td>\n",
       "      <td>14.5</td>\n",
       "      <td>10.6</td>\n",
       "      <td>10.6</td>\n",
       "      <td>25.4</td>\n",
       "      <td>...</td>\n",
       "      <td>NaN</td>\n",
       "      <td>NaN</td>\n",
       "      <td>NaN</td>\n",
       "      <td>NaN</td>\n",
       "      <td>NaN</td>\n",
       "      <td>NaN</td>\n",
       "      <td>NaN</td>\n",
       "      <td>NaN</td>\n",
       "      <td>NaN</td>\n",
       "      <td>NaN</td>\n",
       "    </tr>\n",
       "    <tr>\n",
       "      <th>84</th>\n",
       "      <td>Overig: religie</td>\n",
       "      <td>1977</td>\n",
       "      <td>1993</td>\n",
       "      <td>3</td>\n",
       "      <td>16.9</td>\n",
       "      <td>14.1</td>\n",
       "      <td>12.6</td>\n",
       "      <td>8.6</td>\n",
       "      <td>8.6</td>\n",
       "      <td>30</td>\n",
       "      <td>...</td>\n",
       "      <td>NaN</td>\n",
       "      <td>NaN</td>\n",
       "      <td>NaN</td>\n",
       "      <td>NaN</td>\n",
       "      <td>NaN</td>\n",
       "      <td>NaN</td>\n",
       "      <td>NaN</td>\n",
       "      <td>NaN</td>\n",
       "      <td>NaN</td>\n",
       "      <td>NaN</td>\n",
       "    </tr>\n",
       "    <tr>\n",
       "      <th>85</th>\n",
       "      <td>Overig: religie</td>\n",
       "      <td>1994</td>\n",
       "      <td>2025</td>\n",
       "      <td>4</td>\n",
       "      <td>13.2</td>\n",
       "      <td>13</td>\n",
       "      <td>10.7</td>\n",
       "      <td>8.2</td>\n",
       "      <td>8.2</td>\n",
       "      <td>25.8</td>\n",
       "      <td>...</td>\n",
       "      <td>NaN</td>\n",
       "      <td>NaN</td>\n",
       "      <td>NaN</td>\n",
       "      <td>NaN</td>\n",
       "      <td>NaN</td>\n",
       "      <td>NaN</td>\n",
       "      <td>NaN</td>\n",
       "      <td>NaN</td>\n",
       "      <td>NaN</td>\n",
       "      <td>NaN</td>\n",
       "    </tr>\n",
       "  </tbody>\n",
       "</table>\n",
       "<p>86 rows × 25 columns</p>\n",
       "</div>"
      ],
      "text/plain": [
       "   Energiekentallen utiliteitsbouw dienstensector; bouwjaarklasse  \\\n",
       "0                                                 NaN               \n",
       "1                                            bouwjaar               \n",
       "2                                           categorie               \n",
       "3                                         Oppervlakte               \n",
       "4                 Gemiddeld verbruik (aardgas) per m2               \n",
       "..                                                ...               \n",
       "81                             Recreatie: buitensport               \n",
       "82                                    Overig: religie               \n",
       "83                                    Overig: religie               \n",
       "84                                    Overig: religie               \n",
       "85                                    Overig: religie               \n",
       "\n",
       "                     Unnamed: 1  Unnamed: 2 Unnamed: 3    Unnamed: 4  \\\n",
       "0      INPUT UIT tab Opdracht_1  categorie         NaN           NaN   \n",
       "1                          6000           4        NaN       LEGENDA   \n",
       "2   Detailhandel zonder koeling         NaN        NaN        INPUTS   \n",
       "3                          5000           5        NaN       OUTPUTS   \n",
       "4                           5.5         NaN        NaN  STAMGEGEVENS   \n",
       "..                          ...         ...        ...           ...   \n",
       "81                         1994        2025          4          14.8   \n",
       "82                            0        1921          1          19.4   \n",
       "83                         1922        1976          2          18.7   \n",
       "84                         1977        1993          3          16.9   \n",
       "85                         1994        2025          4          13.2   \n",
       "\n",
       "                   Unnamed: 5 Unnamed: 6 Unnamed: 7 Unnamed: 8 Unnamed: 9  \\\n",
       "0                         NaN        NaN        NaN        NaN        NaN   \n",
       "1   Gemiddelde hoogte plafond        2.7        NaN        NaN        NaN   \n",
       "2                         NaN        NaN        NaN        NaN        NaN   \n",
       "3                         NaN        NaN        NaN        NaN        NaN   \n",
       "4                         NaN        NaN        NaN        NaN        NaN   \n",
       "..                        ...        ...        ...        ...        ...   \n",
       "81                       15.5       10.7       19.4       19.4       77.6   \n",
       "82                         16       13.4       10.4       10.4       23.9   \n",
       "83                       16.5       14.5       10.6       10.6       25.4   \n",
       "84                       14.1       12.6        8.6        8.6         30   \n",
       "85                         13       10.7        8.2        8.2       25.8   \n",
       "\n",
       "    ... Unnamed: 15 Unnamed: 16                              Unnamed: 17  \\\n",
       "0   ...         NaN         NaN                 Detailhandel met koeling   \n",
       "1   ...         NaN         NaN              Detailhandel zonder koeling   \n",
       "2   ...         NaN         NaN               Groothandel zonder koeling   \n",
       "3   ...         NaN         NaN          Autobedrijf: showroom en garage   \n",
       "4   ...         NaN         NaN  Autobedrijf: autoschadeherstelbedrijven   \n",
       "..  ...         ...         ...                                      ...   \n",
       "81  ...         NaN         NaN                                      NaN   \n",
       "82  ...         NaN         NaN                                      NaN   \n",
       "83  ...         NaN         NaN                                      NaN   \n",
       "84  ...         NaN         NaN                                      NaN   \n",
       "85  ...         NaN         NaN                                      NaN   \n",
       "\n",
       "   Unnamed: 18  Unnamed: 19  Unnamed: 20  Unnamed: 21      M2  Unnamed: 23  \\\n",
       "0          NaN          NaN          NaN          NaN     0.0        250.0   \n",
       "1          NaN          NaN          NaN          NaN   251.0        500.0   \n",
       "2          NaN          NaN          NaN          NaN   501.0       1000.0   \n",
       "3          NaN          NaN          NaN          NaN  1001.0       2500.0   \n",
       "4          NaN          NaN          NaN          NaN  2501.0       5000.0   \n",
       "..         ...          ...          ...          ...     ...          ...   \n",
       "81         NaN          NaN          NaN          NaN     NaN          NaN   \n",
       "82         NaN          NaN          NaN          NaN     NaN          NaN   \n",
       "83         NaN          NaN          NaN          NaN     NaN          NaN   \n",
       "84         NaN          NaN          NaN          NaN     NaN          NaN   \n",
       "85         NaN          NaN          NaN          NaN     NaN          NaN   \n",
       "\n",
       "    Unnamed: 24  \n",
       "0           1.0  \n",
       "1           2.0  \n",
       "2           3.0  \n",
       "3           4.0  \n",
       "4           5.0  \n",
       "..          ...  \n",
       "81          NaN  \n",
       "82          NaN  \n",
       "83          NaN  \n",
       "84          NaN  \n",
       "85          NaN  \n",
       "\n",
       "[86 rows x 25 columns]"
      ]
     },
     "execution_count": 4,
     "metadata": {},
     "output_type": "execute_result"
    }
   ],
   "source": [
    "cbs_df=pd.read_excel(dataset,sheet_name='Opdracht_1_CBS')\n",
    "\n",
    "cbs_df"
   ]
  },
  {
   "cell_type": "code",
   "execution_count": 4,
   "id": "18a25415-becc-4268-a9e3-32fd086827be",
   "metadata": {},
   "outputs": [
    {
     "name": "stdout",
     "output_type": "stream",
     "text": [
      "Naam: Bedrijf  X\n",
      "Straat + postcode: Nassau Ouwerkerkstraat 3\n",
      "Postcode: 2596CC\n",
      "Plaats: Den Haag\n"
     ]
    },
    {
     "name": "stderr",
     "output_type": "stream",
     "text": [
      "C:\\Users\\rubam\\anaconda3\\Lib\\site-packages\\openpyxl\\worksheet\\_read_only.py:85: UserWarning: Data Validation extension is not supported and will be removed\n",
      "  for idx, row in parser.parse():\n"
     ]
    }
   ],
   "source": [
    "import pandas as pd\n",
    "\n",
    "def analyse_energieverbruik():\n",
    "    dataset = 'PraeterBV_Case.xlsx'\n",
    "    cbs_df = pd.read_excel(dataset, sheet_name='Opdracht_1_CBS')\n",
    "    klant_df = pd.read_excel(dataset, sheet_name='Opdracht_1_voorbeeld')\n",
    "\n",
    "    naam = klant_df.iloc[4, 3]\n",
    "    straat = klant_df.iloc[5, 3]\n",
    "    postcode = klant_df.iloc[6, 3]\n",
    "    plaats = klant_df.iloc[7, 3]\n",
    "\n",
    "   \n",
    "    print(f\"Naam: {naam}\")\n",
    "    print(f\"Straat + postcode: {straat}\")\n",
    "    print(f\"Postcode: {postcode}\")\n",
    "    print(f\"Plaats: {plaats}\")\n",
    "\n",
    "# استدعاء الدالة بعد تعريفها\n",
    "analyse_energieverbruik()\n"
   ]
  },
  {
   "cell_type": "code",
   "execution_count": 5,
   "id": "3e96db16-70a6-4032-9971-c234bf1f89cc",
   "metadata": {},
   "outputs": [
    {
     "ename": "NameError",
     "evalue": "name 'naam' is not defined",
     "output_type": "error",
     "traceback": [
      "\u001b[1;31m---------------------------------------------------------------------------\u001b[0m",
      "\u001b[1;31mNameError\u001b[0m                                 Traceback (most recent call last)",
      "Cell \u001b[1;32mIn[5], line 1\u001b[0m\n\u001b[1;32m----> 1\u001b[0m \u001b[38;5;28mprint\u001b[39m(\u001b[38;5;124mf\u001b[39m\u001b[38;5;124m\"\u001b[39m\u001b[38;5;124mNaam: \u001b[39m\u001b[38;5;132;01m{\u001b[39;00mnaam\u001b[38;5;132;01m}\u001b[39;00m\u001b[38;5;124m\"\u001b[39m)\n\u001b[0;32m      2\u001b[0m \u001b[38;5;28mprint\u001b[39m(\u001b[38;5;124mf\u001b[39m\u001b[38;5;124m\"\u001b[39m\u001b[38;5;124mStraat + postcode: \u001b[39m\u001b[38;5;132;01m{\u001b[39;00mstraat\u001b[38;5;132;01m}\u001b[39;00m\u001b[38;5;124m\"\u001b[39m)\n\u001b[0;32m      3\u001b[0m \u001b[38;5;28mprint\u001b[39m(\u001b[38;5;124mf\u001b[39m\u001b[38;5;124m\"\u001b[39m\u001b[38;5;124mPostcode: \u001b[39m\u001b[38;5;132;01m{\u001b[39;00mpostcode\u001b[38;5;132;01m}\u001b[39;00m\u001b[38;5;124m\"\u001b[39m)\n",
      "\u001b[1;31mNameError\u001b[0m: name 'naam' is not defined"
     ]
    }
   ],
   "source": [
    "print(f\"Naam: {naam}\")\n",
    "print(f\"Straat + postcode: {straat}\")\n",
    "print(f\"Postcode: {postcode}\")\n",
    "print(f\"Plaats: {plaats}\")"
   ]
  },
  {
   "cell_type": "code",
   "execution_count": 6,
   "id": "52314e70-12df-4edc-b8c2-60ac85d9a6e2",
   "metadata": {},
   "outputs": [
    {
     "ename": "NameError",
     "evalue": "name 'klant_df' is not defined",
     "output_type": "error",
     "traceback": [
      "\u001b[1;31m---------------------------------------------------------------------------\u001b[0m",
      "\u001b[1;31mNameError\u001b[0m                                 Traceback (most recent call last)",
      "Cell \u001b[1;32mIn[6], line 1\u001b[0m\n\u001b[1;32m----> 1\u001b[0m gas_verbruik\u001b[38;5;241m=\u001b[39m \u001b[38;5;28mfloat\u001b[39m(klant_df\u001b[38;5;241m.\u001b[39miloc[\u001b[38;5;241m11\u001b[39m, \u001b[38;5;241m3\u001b[39m])\n\u001b[0;32m      2\u001b[0m elektricieit_verbruik\u001b[38;5;241m=\u001b[39m\u001b[38;5;28mfloat\u001b[39m(klant_df\u001b[38;5;241m.\u001b[39miloc[\u001b[38;5;241m12\u001b[39m, \u001b[38;5;241m3\u001b[39m])\n\u001b[0;32m      3\u001b[0m energe_waarde_gas_elek\u001b[38;5;241m=\u001b[39m\u001b[38;5;28mfloat\u001b[39m(klant_df\u001b[38;5;241m.\u001b[39miloc[\u001b[38;5;241m13\u001b[39m, \u001b[38;5;241m3\u001b[39m])\n",
      "\u001b[1;31mNameError\u001b[0m: name 'klant_df' is not defined"
     ]
    }
   ],
   "source": [
    "gas_verbruik= float(klant_df.iloc[11, 3])\n",
    "elektricieit_verbruik=float(klant_df.iloc[12, 3])\n",
    "energe_waarde_gas_elek=float(klant_df.iloc[13, 3])\n",
    "totaal_factor=float(klant_df.iloc[14, 3])"
   ]
  },
  {
   "cell_type": "code",
   "execution_count": 31,
   "id": "c542353b-ef9c-402f-85ae-ec5b7ee6f2cf",
   "metadata": {},
   "outputs": [
    {
     "name": "stdout",
     "output_type": "stream",
     "text": [
      "gas verbruik: 130000.0 m3\n",
      "elektricieit verbruik: 27400.0 kwh\n",
      "energetisch waarde gas-elek: 10.0factor\n",
      "Totaal(factor): 274000.0 kw\n"
     ]
    }
   ],
   "source": [
    "print(f\"gas verbruik: {gas_verbruik} m3\")\n",
    "print(f\"elektricieit verbruik: {elektricieit_verbruik} kwh\")\n",
    "print(f\"energetisch waarde gas-elek: {energe_waarde_gas_elek}factor\")\n",
    "print(f\"Totaal(factor): {totaal_factor} kw\")"
   ]
  },
  {
   "cell_type": "code",
   "execution_count": 32,
   "id": "74560d01-2094-4fc4-87ed-9ffc20957a82",
   "metadata": {},
   "outputs": [],
   "source": [
    "verdiepingen=int(klant_df.iloc[17, 3])\n",
    "Bouwjaar=int(klant_df.iloc[18, 3])\n",
    "Categorie=(klant_df.iloc[19, 3])\n",
    "Oppervlakte=float(klant_df.iloc[20, 3])\n",
    "Hoogte=float(klant_df.iloc[21, 3])"
   ]
  },
  {
   "cell_type": "code",
   "execution_count": 33,
   "id": "1e19fee5-e459-46e1-8659-71b830b09dfc",
   "metadata": {},
   "outputs": [
    {
     "name": "stdout",
     "output_type": "stream",
     "text": [
      "verdiepingen: 3\n",
      "Bouwjaar: 6000 #REF!\n",
      "Categorie: Detailhandel zonder koeling\n",
      "Oppervlakte: 5000.0 m2\n",
      "Hoogte(etage): 3.0 m\n"
     ]
    }
   ],
   "source": [
    "print(f\"verdiepingen: {verdiepingen}\")\n",
    "print(f\"Bouwjaar: {Bouwjaar} #REF!\")\n",
    "print(f\"Categorie: {Categorie}\")\n",
    "print(f\"Oppervlakte: {Oppervlakte} m2\")\n",
    "print(f\"Hoogte(etage): {Hoogte} m\")"
   ]
  },
  {
   "cell_type": "code",
   "execution_count": 34,
   "id": "d9ab9652-342e-4a41-a389-132f9b583ecf",
   "metadata": {},
   "outputs": [
    {
     "data": {
      "text/plain": [
       "15000.0"
      ]
     },
     "execution_count": 34,
     "metadata": {},
     "output_type": "execute_result"
    }
   ],
   "source": [
    "volume =Oppervlakte * Hoogte\n",
    "volume"
   ]
  },
  {
   "cell_type": "code",
   "execution_count": 35,
   "id": "e15e6fb7-bcbd-465d-a666-87ad0483ef27",
   "metadata": {},
   "outputs": [],
   "source": [
    "gas_per_m2 = gas_verbruik / Oppervlakte\n",
    "gas_per_m3 = gas_verbruik / volume\n",
    "gas_totaal = gas_verbruik\n",
    "\n",
    "elek_per_m2 = elektricieit_verbruik / Oppervlakte\n",
    "elek_per_m3 = elektricieit_verbruik / volume\n",
    "elek_totaal = elektricieit_verbruik\n",
    "\n",
    "totaal_per_m2 = gas_per_m2*10+elek_per_m2\n",
    "totaal_per_m3 = gas_per_m3*10+elek_per_m3\n",
    "totaal_totaal = gas_totaal*10+elek_totaal"
   ]
  },
  {
   "cell_type": "code",
   "execution_count": 36,
   "id": "3ce4b39f-1e9e-4594-8988-65c460a23271",
   "metadata": {},
   "outputs": [],
   "source": [
    "huidig = {\n",
    "        'gas': {\n",
    "            'per_m2': gas_per_m2,\n",
    "            'per_m3': gas_per_m3,\n",
    "            'totaal': gas_verbruik\n",
    "        },\n",
    "        'elek': {\n",
    "            'per_m2': elek_per_m2,\n",
    "            'per_m3': elek_per_m3,\n",
    "            'totaal': elektricieit_verbruik\n",
    "        },\n",
    "        'totaal': {\n",
    "            'per_m2': totaal_per_m2,\n",
    "            'per_m3': totaal_per_m3,\n",
    "            'totaal': totaal_totaal\n",
    "        }\n",
    "    }"
   ]
  },
  {
   "cell_type": "code",
   "execution_count": 37,
   "id": "fe180c06-33fd-485b-a682-08529e30b0b6",
   "metadata": {},
   "outputs": [
    {
     "name": "stdout",
     "output_type": "stream",
     "text": [
      "        per_m2     per_m3     totaal\n",
      "gas      26.00   8.666667   130000.0\n",
      "elek      5.48   1.826667    27400.0\n",
      "totaal  265.48  88.493333  1327400.0\n"
     ]
    }
   ],
   "source": [
    "df_huidig = pd.DataFrame(huidig)\n",
    "\n",
    "print(df_huidig.T)"
   ]
  },
  {
   "cell_type": "code",
   "execution_count": 38,
   "id": "2128316e-5e6e-4a24-984e-8eca7c5e3f5d",
   "metadata": {},
   "outputs": [],
   "source": [
    "gem_gas_per_m2=float(cbs_df.iloc[4, 1])\n",
    "gem_elek_per_m2=float(cbs_df.iloc[5, 1])\n",
    "gem_gas_per_m3=float(cbs_df.iloc[7, 1])\n",
    "gem_elek_per_m3=float(cbs_df.iloc[8, 1])\n",
    "totaal_gem_gas = gem_gas_per_m2 * Oppervlakte\n",
    "totaal_gem_elek = gem_elek_per_m2 * Oppervlakte\n",
    "totaal_gem = totaal_gem_gas*10+totaal_gem_elek"
   ]
  },
  {
   "cell_type": "code",
   "execution_count": 39,
   "id": "f80be17d-e6fb-4eec-b9fd-a36c8ac75a14",
   "metadata": {},
   "outputs": [
    {
     "name": "stdout",
     "output_type": "stream",
     "text": [
      " Gemiddeld verbruik(aardgas) per m2 : 5.5\n",
      " Gemiddeld verbruik(elektriciteit) per m2 : 75.0\n",
      " Gemiddeld verbruik(aardgas) per m3 : 2.0370370370370368\n",
      " Gemiddeld verbruik(elektriciteit) per m3 : 27.777777777777775\n",
      " Totaal gemiddeld verbruik(aardgas-elektriciteit)  : 27500.0\n",
      " Totaal gemiddeld verbruik(aardgas-elektriciteit)  : 375000.0\n",
      " Totaal gemiddeld verbruik( toataal aardgas-elektriciteit) per m3: 650000.0\n"
     ]
    }
   ],
   "source": [
    "print(f\" Gemiddeld verbruik(aardgas) per m2 : {gem_gas_per_m2}\")\n",
    "print(f\" Gemiddeld verbruik(elektriciteit) per m2 : {gem_elek_per_m2}\")\n",
    "print(f\" Gemiddeld verbruik(aardgas) per m3 : {gem_gas_per_m3}\")\n",
    "print(f\" Gemiddeld verbruik(elektriciteit) per m3 : {gem_elek_per_m3}\")\n",
    "print(f\" Totaal gemiddeld verbruik(aardgas-elektriciteit)  : {totaal_gem_gas}\")\n",
    "print(f\" Totaal gemiddeld verbruik(aardgas-elektriciteit)  : {totaal_gem_elek}\")\n",
    "print(f\" Totaal gemiddeld verbruik( toataal aardgas-elektriciteit) per m3: {totaal_gem}\")"
   ]
  },
  {
   "cell_type": "code",
   "execution_count": 40,
   "id": "08f2d80c-c1c7-478a-8ae5-707ab156fcb7",
   "metadata": {},
   "outputs": [],
   "source": [
    "totaal_gem_per_m2=gem_gas_per_m2*10+gem_elek_per_m2\n",
    "totaal_gem_per_m3= gem_gas_per_m3*10+gem_elek_per_m3"
   ]
  },
  {
   "cell_type": "code",
   "execution_count": 41,
   "id": "deb6841a-a13f-44c9-a2b4-60fa4954d892",
   "metadata": {},
   "outputs": [],
   "source": [
    "gem = {\n",
    "        'gas': {\n",
    "            'per_m2': gem_gas_per_m2,\n",
    "            'per_m3': gem_gas_per_m3,\n",
    "            'totaal': totaal_gem_gas\n",
    "        },\n",
    "        'elek': {\n",
    "            'per_m2': gem_elek_per_m2,\n",
    "            'per_m3': gem_elek_per_m3,\n",
    "            'totaal': totaal_gem_elek\n",
    "        },\n",
    "        'totaal': {\n",
    "            'per_m2': totaal_gem_per_m2,\n",
    "            'per_m3': totaal_gem_per_m3,\n",
    "            'totaal': totaal_gem\n",
    "        }\n",
    "    }"
   ]
  },
  {
   "cell_type": "code",
   "execution_count": 42,
   "id": "90202bed-6cd9-4f19-8f8a-79966c88c5d5",
   "metadata": {},
   "outputs": [
    {
     "name": "stdout",
     "output_type": "stream",
     "text": [
      "        per_m2     per_m3    totaal\n",
      "gas        5.5   2.037037   27500.0\n",
      "elek      75.0  27.777778  375000.0\n",
      "totaal   130.0  48.148148  650000.0\n"
     ]
    }
   ],
   "source": [
    "df_gem = pd.DataFrame(gem)\n",
    "\n",
    "print(df_gem.T)"
   ]
  },
  {
   "cell_type": "code",
   "execution_count": 43,
   "id": "f03146e5-dad9-46db-bf68-fe023e7f09b0",
   "metadata": {},
   "outputs": [
    {
     "data": {
      "image/png": "[encoded data removed]",
      "text/plain": [
       "<Figure size 600x400 with 1 Axes>"
      ]
     },
     "metadata": {},
     "output_type": "display_data"
    }
   ],
   "source": [
    "data = {\n",
    "    'huidig': {\n",
    "        'per_m2': totaal_per_m2,\n",
    "        'per_m3': totaal_per_m3\n",
    "    },\n",
    "    'gemiddeld': {\n",
    "        'per_m2': totaal_gem_per_m2,\n",
    "        'per_m3':totaal_gem_per_m3\n",
    "    }\n",
    "}\n",
    "\n",
    "\n",
    "df = pd.DataFrame(data)\n",
    "\n",
    "labels = ['per_m2', 'per_m3']\n",
    "x = range(len(labels))\n",
    "width = 0.30\n",
    "\n",
    "fig, ax = plt.subplots(figsize=(6, 4))\n",
    "\n",
    "ax.bar([i - width/2 for i in x], df['huidig'], width, label='Huidig', color='blue')\n",
    "ax.bar([i + width/2 for i in x], df['gemiddeld'], width, label='Gemiddeld', color='brown')\n",
    "\n",
    "ax.set_title('Huidig verbruik t.o.v. gemiddeld verbruik(kwh)')\n",
    "ax.set_xticks(x)\n",
    "ax.set_xticklabels(labels)\n",
    "ax.legend()\n",
    "\n",
    "plt.tight_layout()\n",
    "plt.show()\n"
   ]
  },
  {
   "cell_type": "code",
   "execution_count": 22,
   "id": "4de06cea-2dc8-4805-ab0c-7be192a7fddf",
   "metadata": {},
   "outputs": [
    {
     "name": "stderr",
     "output_type": "stream",
     "text": [
      "C:\\Users\\rubam\\anaconda3\\Lib\\site-packages\\openpyxl\\worksheet\\_read_only.py:85: UserWarning: Data Validation extension is not supported and will be removed\n",
      "  for idx, row in parser.parse():\n"
     ]
    }
   ],
   "source": [
    "analyse_energieverbruik(klant_df, cbs_df)"
   ]
  },
  {
   "cell_type": "code",
   "execution_count": null,
   "id": "5ee9110c-6a51-48b2-9a4f-d3a524384c5a",
   "metadata": {},
   "outputs": [],
   "source": []
  },
  {
   "cell_type": "code",
   "execution_count": null,
   "id": "30e87b2e-1c4e-49ab-9efa-3392c1a537aa",
   "metadata": {},
   "outputs": [],
   "source": []
  },
  {
   "cell_type": "code",
   "execution_count": null,
   "id": "0c802a8b-341c-4790-927c-a01eeddeaec9",
   "metadata": {},
   "outputs": [],
   "source": []
  }
 ],
 "metadata": {
  "kernelspec": {
   "display_name": "Python 3 (ipykernel)",
   "language": "python",
   "name": "python3"
  },
  "language_info": {
   "codemirror_mode": {
    "name": "ipython",
    "version": 3
   },
   "file_extension": ".py",
   "mimetype": "text/x-python",
   "name": "python",
   "nbconvert_exporter": "python",
   "pygments_lexer": "ipython3",
   "version": "3.13.5"
  }
 },
 "nbformat": 4,
 "nbformat_minor": 5
}
